{
  "cells": [
    {
      "cell_type": "markdown",
      "metadata": {
        "id": "view-in-github",
        "colab_type": "text"
      },
      "source": [
        "<a href=\"https://colab.research.google.com/github/ValentinBhend/Ballmaze/blob/main/Object_detection/YOLO_train_export.ipynb\" target=\"_parent\"><img src=\"https://colab.research.google.com/assets/colab-badge.svg\" alt=\"Open In Colab\"/></a>"
      ]
    },
    {
      "cell_type": "markdown",
      "metadata": {
        "id": "UMNej45X7lyj"
      },
      "source": [
        "## How the model used in the Ballmaze project was trained (as of 21.03.2025)\n",
        "A model trained with this can be found at https://github.com/ValentinBhend/Ballmaze"
      ]
    },
    {
      "cell_type": "markdown",
      "source": [
        "#### If this is executed in Google Colab, it should handle the dataset filepaths. If not, you have to copy the downloaded dataset manually to the right path or change the Ultralytics default path (so this doesn't mess with your local files :). There should be an error message describing what to do.\n",
        "**Don't forget to select a GPU in Colab, else you might not live to see it finish.**"
      ],
      "metadata": {
        "id": "s3gLxa6d_owZ"
      }
    },
    {
      "cell_type": "code",
      "source": [
        "import sys\n",
        "IN_COLAB = 'google.colab' in sys.modules\n",
        "if IN_COLAB:\n",
        "  %pip install ultralytics\n",
        "  # used for OpenVINO export, versions (& requirements) might change (as of 21.03.2025)\n",
        "  %pip install 'openvino>=2024.0.0,!=2025.0.0'\n",
        "  %pip install 'nncf>=2.14.0'"
      ],
      "metadata": {
        "id": "iz5mJ5Jk8G31"
      },
      "execution_count": null,
      "outputs": []
    },
    {
      "cell_type": "markdown",
      "metadata": {
        "id": "gkWlLykn7lyk"
      },
      "source": [
        "##### Load the dataset from kaggle like this or as zip."
      ]
    },
    {
      "cell_type": "code",
      "execution_count": null,
      "metadata": {
        "id": "yVZ7Dsgt7lyl"
      },
      "outputs": [],
      "source": [
        "import kagglehub\n",
        "\n",
        "# Download latest version\n",
        "path_kaggle = kagglehub.dataset_download(\"valentinbhend/ballmaze-labeled-images\")\n",
        "\n",
        "print(f\"Path to dataset files: {path_kaggle}. Copy the folder datasets to the current path. \")"
      ]
    },
    {
      "cell_type": "markdown",
      "metadata": {
        "id": "n95ydlJb7lym"
      },
      "source": [
        "##### Define the dataset .yaml file like this or create a .yaml file by hand."
      ]
    },
    {
      "cell_type": "code",
      "execution_count": null,
      "metadata": {
        "id": "R5uhsezz7lym"
      },
      "outputs": [],
      "source": [
        "import yaml\n",
        "# Define dataset configuration as a dictionary. Or use an existing .yaml file.\n",
        "dataset = {\n",
        "    'train': [\"dataset_128/images/train\", \"dataset_480_1/images/train\", \"dataset_480/images/train\"],\n",
        "    'val': [\"dataset_128/images/val\", \"dataset_480_1/images/val\", \"dataset_480/images/val\"],\n",
        "    'nc': 1,  # Number of classes\n",
        "    'names': ['Ball']\n",
        "}\n",
        "dataset_file = 'dataset.yaml'\n",
        "with open(dataset_file, 'w') as f:\n",
        "    yaml.dump(dataset, f)\n",
        "\n",
        "if IN_COLAB:\n",
        "  import os\n",
        "  source = path_kaggle + \"/datasets\"\n",
        "  destination = \"/content/\"\n",
        "  if not os.path.exists(destination):\n",
        "    !cp -r {source} {destination}\n",
        "  else:\n",
        "    print(f\"The folder {destination} already exists. If this is the first execution of this, there already was a folder with this name. \")"
      ]
    },
    {
      "cell_type": "markdown",
      "metadata": {
        "id": "UONtQR8Z7lym"
      },
      "source": [
        "##### Train the model with the data defined in the .yaml file.\n",
        "**!! Run with 1-2 epochs first to see if all packages are installed and working !!**"
      ]
    },
    {
      "cell_type": "code",
      "execution_count": null,
      "metadata": {
        "id": "4seI5wms7lyn"
      },
      "outputs": [],
      "source": [
        "from ultralytics import YOLO\n",
        "import torch\n",
        "# Load a pretrained model\n",
        "model = YOLO('yolo11n.pt')\n",
        "\n",
        "device = \"cuda\" if torch.cuda.is_available() else \"cpu\"\n",
        "\n",
        "\n",
        "# Train the model, 500 epochs might be a bit much\n",
        "results = model.train(data=\"dataset.yaml\", epochs=500, patience=400, warmup_epochs=50,\n",
        "                      imgsz=128, int8=True, single_cls=True, max_det=1,\n",
        "                      device=device, seed=0, deterministic=True)"
      ]
    },
    {
      "cell_type": "markdown",
      "metadata": {
        "id": "xRPbkHbt7lyn"
      },
      "source": [
        "##### Export the model to OpenVINO or other.\n",
        "If used only for inference, a pytorch model (.pt) is much slower than an exported one."
      ]
    },
    {
      "cell_type": "code",
      "execution_count": null,
      "metadata": {
        "id": "uf9vo2JL7lyo"
      },
      "outputs": [],
      "source": [
        "# load a trained model (if not still loaded)\n",
        "# model = YOLO(\"path/to/weights/best.pt\")\n",
        "\n",
        "# Export the model\n",
        "target_device = \"cpu\" # In my case, could also be \"cuda\" depending on the device it will be deployed in the end\n",
        "model.export(data=\"dataset.yaml\", format=\"openvino\", device=target_device,\n",
        "             imgsz=128, int8=True, single_cls=True, max_det=1)"
      ]
    }
  ],
  "metadata": {
    "kernelspec": {
      "display_name": "Python 3",
      "name": "python3"
    },
    "language_info": {
      "codemirror_mode": {
        "name": "ipython",
        "version": 3
      },
      "file_extension": ".py",
      "mimetype": "text/x-python",
      "name": "python",
      "nbconvert_exporter": "python",
      "pygments_lexer": "ipython3",
      "version": "3.12.9"
    },
    "colab": {
      "provenance": [],
      "gpuType": "T4",
      "include_colab_link": true
    },
    "accelerator": "GPU"
  },
  "nbformat": 4,
  "nbformat_minor": 0
}