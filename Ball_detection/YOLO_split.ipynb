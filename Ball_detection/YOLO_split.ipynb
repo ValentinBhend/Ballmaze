{
 "cells": [
  {
   "cell_type": "markdown",
   "metadata": {},
   "source": [
    "### Draft script to split a newly labeled dataset into train & val"
   ]
  },
  {
   "cell_type": "code",
   "execution_count": 1,
   "metadata": {},
   "outputs": [],
   "source": [
    "import shutil\n",
    "import numpy as np\n",
    "\n",
    "N = 2000\n",
    "N_train = int(0.8*N)"
   ]
  },
  {
   "cell_type": "code",
   "execution_count": 2,
   "metadata": {},
   "outputs": [],
   "source": [
    "inds_train = np.random.choice(2000, N_train, replace=False)\n",
    "inds_val = np.setdiff1d(np.arange(2000), inds_train)"
   ]
  },
  {
   "cell_type": "code",
   "execution_count": 5,
   "metadata": {},
   "outputs": [],
   "source": [
    "source_img =       \"datasets/dataset_128_unsplit/images/img\"\n",
    "source_label =     \"datasets/dataset_128_unsplit/labels/img\"\n",
    "dest_img_train =   \"datasets/dataset_128/images/train/img\"\n",
    "dest_img_val =     \"datasets/dataset_128/images/val/img\"\n",
    "dest_label_train = \"datasets/dataset_128/labels/train/img\"\n",
    "dest_label_val =   \"datasets/dataset_128/labels/val/img\""
   ]
  },
  {
   "cell_type": "code",
   "execution_count": 6,
   "metadata": {},
   "outputs": [
    {
     "name": "stdout",
     "output_type": "stream",
     "text": [
      "done\n"
     ]
    }
   ],
   "source": [
    "for it in inds_train:\n",
    "    si = source_img       + str(it).zfill(4) + \".png\"\n",
    "    sl = source_label     + str(it).zfill(4) + \".txt\"\n",
    "    di = dest_img_train   + str(it).zfill(4) + \".png\"\n",
    "    dl = dest_label_train + str(it).zfill(4) + \".txt\"\n",
    "    shutil.copy(si, di)\n",
    "    shutil.copy(sl, dl)\n",
    "for it in inds_val:\n",
    "    si = source_img       + str(it).zfill(4) + \".png\"\n",
    "    sl = source_label     + str(it).zfill(4) + \".txt\"\n",
    "    di = dest_img_val     + str(it).zfill(4) + \".png\"\n",
    "    dl = dest_label_val   + str(it).zfill(4) + \".txt\"\n",
    "    shutil.copy(si, di)\n",
    "    shutil.copy(sl, dl)\n",
    "\n",
    "print(\"done\")"
   ]
  }
 ],
 "metadata": {
  "kernelspec": {
   "display_name": ".venv",
   "language": "python",
   "name": "python3"
  },
  "language_info": {
   "codemirror_mode": {
    "name": "ipython",
    "version": 3
   },
   "file_extension": ".py",
   "mimetype": "text/x-python",
   "name": "python",
   "nbconvert_exporter": "python",
   "pygments_lexer": "ipython3",
   "version": "3.12.9"
  }
 },
 "nbformat": 4,
 "nbformat_minor": 2
}
